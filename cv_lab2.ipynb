{
 "cells": [
  {
   "cell_type": "code",
   "execution_count": 5,
   "metadata": {
    "collapsed": true
   },
   "outputs": [],
   "source": [
    "import matplotlib.pyplot as plt\n",
    "import cv2\n",
    "import matplotlib.pyplot as plt"
   ]
  },
  {
   "cell_type": "code",
   "execution_count": 21,
   "outputs": [],
   "source": [
    "# поиск по ключевым точкам, получить peak coord\n",
    "\n",
    "def matchTemplate(path_img, path_pattern):\n",
    "\n",
    "    # Load the input images\n",
    "    input_image = cv2.imread(path_img, 0)\n",
    "    pattern_template = cv2.imread(path_pattern, 0)\n",
    "\n",
    "    # тут тодлжен быть свой код\n",
    "    # необходимо найти ключевые точки и вывести координаты рамки\n",
    "\n",
    "\n",
    "\n",
    "    height, width =  input_image.shape\n",
    "    highlight_start = (0, 0)\n",
    "    highlight_end = (highlight_start[0] + width, highlight_start[1] + height)\n",
    "    return highlight_start, highlight_end\n"
   ],
   "metadata": {
    "collapsed": false
   }
  },
  {
   "cell_type": "code",
   "execution_count": 12,
   "outputs": [],
   "source": [
    "def show(input_image, pattern_template, highlight_start, highlight_end,row):\n",
    "    cv2.rectangle(input_image,(row[\"x1\"],row[\"y1\"]), (row[\"x2\"],row[\"y2\"]),(255,0,0), 2)\n",
    "    cv2.rectangle(input_image, highlight_start, highlight_end, 255, 2)\n",
    "    # Visualize the pattern template and resulting image\n",
    "    fig_instance, axes_arr = plt.subplots(1, 2, figsize=(10, 5))\n",
    "\n",
    "    # Show the pattern template\n",
    "    axes_arr[0].imshow(pattern_template, cmap='gray')\n",
    "    axes_arr[0].set_title('Pattern Template')\n",
    "\n",
    "    # Show the input image with the highlighted match\n",
    "    axes_arr[1].imshow(input_image, cmap='gray')\n",
    "    axes_arr[1].set_title('Pattern Highlighted')\n",
    "\n",
    "    plt.show()"
   ],
   "metadata": {
    "collapsed": false
   }
  },
  {
   "cell_type": "code",
   "execution_count": 13,
   "outputs": [],
   "source": [
    "# iou\n",
    "\n",
    "def iou(row, highlight_start, highlight_end):\n",
    "    true_points_set = set([])\n",
    "    pred_points_set= set([])\n",
    "\n",
    "    for x in range(row[\"x1\"], row[\"x2\"]):\n",
    "        for y in range(row[\"y1\"], row[\"y2\"]):\n",
    "                true_points_set.add((x,y))\n",
    "\n",
    "        for x in range(highlight_start[0],highlight_end[0]):\n",
    "            for y in range(highlight_start[1], highlight_end[1]):\n",
    "                pred_points_set.add((x,y))\n",
    "    iou_metric = len(true_points_set.intersection(pred_points_set)) / len(true_points_set.union(pred_points_set))\n",
    "    return iou_metric"
   ],
   "metadata": {
    "collapsed": false
   }
  },
  {
   "cell_type": "code",
   "execution_count": 22,
   "outputs": [
    {
     "name": "stdout",
     "output_type": "stream",
     "text": [
      "(105, 480)\n",
      "780 660\n",
      "0.02585858585858586\n",
      "(418, 487)\n",
      "1440 2100\n",
      "0.03602513227513227\n",
      "(214, 232)\n",
      "1198 800\n",
      "0.054778797996661105\n",
      "(458, 595)\n",
      "1000 1500\n",
      "0.0156\n",
      "(1798, 856)\n",
      "2067 3132\n",
      "0.0572445057372405\n",
      "(464, 136)\n",
      "736 736\n",
      "0.043485645085066166\n",
      "(797, 427)\n",
      "1000 1499\n",
      "0.03247631754503002\n",
      "(25, 9)\n",
      "850 1190\n",
      "0.021478991596638655\n",
      "(536, 359)\n",
      "599 900\n",
      "0.03426265998887034\n",
      "(286, 235)\n",
      "699 676\n",
      "0.027465271605251796\n",
      "(102, 423)\n",
      "1274 1920\n",
      "0.1401090724751439\n",
      "(401, 629)\n",
      "1103 736\n",
      "0.020588612085616305\n",
      "(489, 372)\n",
      "2848 4288\n",
      "0.04110242327687406\n",
      "(989, 0)\n",
      "1365 2048\n",
      "0.12751402243589743\n",
      "(355, 31)\n",
      "850 1332\n",
      "0.04663487016428193\n",
      "(1761, 34)\n",
      "1600 2400\n",
      "0.03345416666666667\n",
      "(326, 0)\n",
      "1280 1920\n",
      "0.07633463541666667\n",
      "(1011, 369)\n",
      "1080 1920\n",
      "0.06292245370370371\n",
      "(1003, 515)\n",
      "837 1255\n",
      "0.020715227500987685\n",
      "(412, 400)\n",
      "799 1200\n",
      "0.05950876095118899\n",
      "(579, 19)\n",
      "1000 790\n",
      "0.02397721518987342\n",
      "(0, 449)\n",
      "1000 1500\n",
      "0.03966666666666667\n",
      "(294, 436)\n",
      "1903 2500\n",
      "0.020269469259064636\n",
      "(339, 76)\n",
      "1157 1600\n",
      "0.10248919619706137\n",
      "(256, 308)\n",
      "615 960\n",
      "0.0651219512195122\n",
      "(556, 0)\n",
      "610 855\n",
      "0.07941328731665229\n",
      "(447, 206)\n",
      "1500 1604\n",
      "0.09373441396508728\n",
      "(390, 402)\n",
      "720 1280\n",
      "0.030208333333333334\n",
      "(370, 98)\n",
      "850 1332\n",
      "0.05662073838544427\n",
      "(211, 286)\n",
      "1200 1920\n",
      "0.005328125\n",
      "(637, 411)\n",
      "768 1024\n",
      "0.05364227294921875\n",
      "(399, 0)\n",
      "768 1024\n",
      "0.08612569173177083\n",
      "(203, 0)\n",
      "682 1024\n",
      "0.023643695014662756\n",
      "(771, 229)\n",
      "672 1005\n",
      "0.0464759535655058\n",
      "(360, 139)\n",
      "867 1200\n",
      "0.10842464436755095\n",
      "(698, 195)\n",
      "864 1080\n",
      "0.007291666666666667\n",
      "iou_mean 0.05055537425537709\n"
     ]
    }
   ],
   "source": [
    "# загрузка изображений, перебор\n",
    "import statistics\n",
    "from PIL import Image, ImageFilter\n",
    "import numpy as np\n",
    "import pandas as pd\n",
    "dataset = pd.read_csv('dataset/annotation.csv', delimiter=';')\n",
    "dataset.head()\n",
    "iou_array=[]\n",
    "for i in range(0,36):\n",
    "    row = dataset.iloc[i]\n",
    "    highlight_start, highlight_end =matchTemplate(f\"dataset/{row['id']}.jpg\", f\"dataset/pattern/cropped_img_{row['id']}.jpg\")\n",
    "    iou_metric = iou(row,highlight_start,highlight_end)\n",
    "    print(iou_metric)\n",
    "    iou_array.append(iou_metric)\n",
    "\n",
    "iou_mean = statistics.mean(iou_array)\n",
    "print(\"iou_mean\",iou_mean)"
   ],
   "metadata": {
    "collapsed": false
   }
  },
  {
   "cell_type": "code",
   "execution_count": null,
   "outputs": [],
   "source": [],
   "metadata": {
    "collapsed": false
   }
  }
 ],
 "metadata": {
  "kernelspec": {
   "display_name": "Python 3",
   "language": "python",
   "name": "python3"
  },
  "language_info": {
   "codemirror_mode": {
    "name": "ipython",
    "version": 2
   },
   "file_extension": ".py",
   "mimetype": "text/x-python",
   "name": "python",
   "nbconvert_exporter": "python",
   "pygments_lexer": "ipython2",
   "version": "2.7.6"
  }
 },
 "nbformat": 4,
 "nbformat_minor": 0
}
